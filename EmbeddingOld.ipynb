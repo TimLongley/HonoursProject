{
 "cells": [
  {
   "cell_type": "markdown",
   "metadata": {},
   "source": [
    "# Embedding Graphemes as Vectors"
   ]
  },
  {
   "cell_type": "code",
   "execution_count": null,
   "metadata": {},
   "outputs": [],
   "source": [
    "import torch\n",
    "import torch.nn as nn\n",
    "import torch.optim as optim\n",
    "import torch.nn.functional as F\n",
    "import torch.backends.cudnn as cudnn\n",
    "import tqdm\n",
    "\n",
    "import re\n",
    "import numpy as np\n",
    "import os"
   ]
  },
  {
   "cell_type": "code",
   "execution_count": 4,
   "metadata": {},
   "outputs": [],
   "source": [
    "import matplotlib.pyplot as plt\n"
   ]
  },
  {
   "cell_type": "markdown",
   "metadata": {},
   "source": [
    "## Load and Process Grapheme Data"
   ]
  },
  {
   "cell_type": "code",
   "execution_count": 2,
   "metadata": {},
   "outputs": [],
   "source": [
    "text = open(\"data/bbc_samp.adj\")\n",
    "processed_text = (re.sub(r'[^\\w\\s]','',text.read().lower()).replace('\\n',' '))\n",
    "tokens = [list(\"$\"+token+\"£\") for token in processed_text.split(' ')]\n",
    "vocab = list('abcdefghijklmnopqrstuvwxyz$£')\n",
    "v = len(vocab)"
   ]
  },
  {
   "cell_type": "markdown",
   "metadata": {},
   "source": [
    "## Create One Hot Vectors for Each Grapheme"
   ]
  },
  {
   "cell_type": "code",
   "execution_count": 3,
   "metadata": {},
   "outputs": [],
   "source": [
    "def graph2int(graph):\n",
    "    return vocab.index(graph)\n",
    "    \n",
    "def int2graph(index):\n",
    "    return vocab[index]\n",
    "\n",
    "def int2vec(integer):\n",
    "    vec=np.zeros(len(vocab))\n",
    "    vec[integer]=1\n",
    "    return vec\n",
    "\n",
    "def graph2vec(graph):\n",
    "    return (int2vec(graph2int(graph)))\n",
    "\n",
    "def vec2graph(vec):\n",
    "    return (int2graph(np.argmax(vec)))"
   ]
  },
  {
   "cell_type": "code",
   "execution_count": 4,
   "metadata": {},
   "outputs": [],
   "source": [
    "oneHotData = [[graph2vec(grapheme) for grapheme in word] for word in tokens]"
   ]
  },
  {
   "cell_type": "markdown",
   "metadata": {},
   "source": [
    "## Build training data with labels\n",
    "### Use windows to get surrounding words as labels, and context word as input"
   ]
  },
  {
   "cell_type": "code",
   "execution_count": 22,
   "metadata": {},
   "outputs": [
    {
     "name": "stdout",
     "output_type": "stream",
     "text": [
      "4413\n",
      "(63524, 28)\n",
      "(63524, 28)\n"
     ]
    }
   ],
   "source": [
    "windowSize = 2\n",
    "tokens = [tokenSet for tokenSet in tokens if len(tokenSet)>(2*windowSize+1)]\n",
    "print(len(tokens))\n",
    "c=0\n",
    "for word in tokens:\n",
    "   c+=len(word)-windowSize*2 \n",
    "\n",
    "c=c*(windowSize*2)\n",
    "\n",
    "x_trn = np.empty(shape=(c,len(vocab)))\n",
    "y_trn = np.empty(shape=(c,len(vocab)))\n",
    "\n",
    "i = 0\n",
    "\n",
    "for word in tokens:\n",
    "    wc = len(word)\n",
    "    for graph_i in range(2,wc-2):\n",
    "        x_trn[i:i+windowSize*2,:]=graph2vec(word[graph_i]) \n",
    "        y_trn[i,:] = graph2vec(word[graph_i-2])\n",
    "        y_trn[i+1,:] = graph2vec(word[graph_i-1])\n",
    "        y_trn[i+2,:] = graph2vec(word[graph_i+1])\n",
    "        y_trn[i+3,:] = graph2vec(word[graph_i+2])\n",
    "        i+=windowSize*2\n",
    "        \n",
    "print(x_trn.shape)\n",
    "print(y_trn.shape)"
   ]
  },
  {
   "cell_type": "markdown",
   "metadata": {},
   "source": [
    "# PyTorch"
   ]
  },
  {
   "cell_type": "code",
   "execution_count": 6,
   "metadata": {},
   "outputs": [],
   "source": [
    "class WordEmbeddingNetwork(nn.Module):\n",
    "    def __init__(self,word_shape,embedding_units):\n",
    "        super(WordEmbeddingNetwork,self).__init__()\n",
    "        self.word_shape = word_shape\n",
    "        self.embedding_units = embedding_units\n",
    "        self.weights_encode = nn.Parameter(torch.empty(size=(embedding_units, word_shape[1]), requires_grad=True))\n",
    "        self.weights_decode = nn.Parameter(torch.empty(size=(word_shape[1], embedding_units), requires_grad=True))\n",
    "        \n",
    "        nn.init.normal_(self.weights_encode)\n",
    "        nn.init.normal_(self.weights_decode)\n",
    "        \n",
    "        self.bias1 = nn.Parameter(torch.zeros(embedding_units), requires_grad=True)\n",
    "        self.bias2 = nn.Parameter(torch.zeros(word_shape[1]), requires_grad=True)\n",
    "        \n",
    "    def forward(self,inputs):\n",
    "        out = F.linear(inputs, self.weights_encode, self.bias1)\n",
    "        out = nn.ReLU().forward(out)\n",
    "        out = F.linear(out, self.weights_decode,self.bias2)\n",
    "        out = nn.ReLU().forward(out)\n",
    "        return out\n",
    "\n",
    "    def encode(self,inputs):\n",
    "        out = F.linear(inputs, self.weights_encode, self.bias1)\n",
    "        return out\n",
    "        \n",
    "        "
   ]
  },
  {
   "cell_type": "code",
   "execution_count": 1,
   "metadata": {
    "scrolled": true
   },
   "outputs": [
    {
     "ename": "NameError",
     "evalue": "name 'WordEmbeddingNetwork' is not defined",
     "output_type": "error",
     "traceback": [
      "\u001b[0;31m---------------------------------------------------------------------------\u001b[0m",
      "\u001b[0;31mNameError\u001b[0m                                 Traceback (most recent call last)",
      "\u001b[0;32m<ipython-input-1-3fce9ac2cffe>\u001b[0m in \u001b[0;36m<module>\u001b[0;34m\u001b[0m\n\u001b[0;32m----> 1\u001b[0;31m \u001b[0mw_net\u001b[0m \u001b[0;34m=\u001b[0m \u001b[0mWordEmbeddingNetwork\u001b[0m\u001b[0;34m(\u001b[0m\u001b[0mword_shape\u001b[0m\u001b[0;34m=\u001b[0m\u001b[0mx_trn\u001b[0m\u001b[0;34m.\u001b[0m\u001b[0mshape\u001b[0m\u001b[0;34m,\u001b[0m\u001b[0membedding_units\u001b[0m\u001b[0;34m=\u001b[0m\u001b[0;36m2\u001b[0m\u001b[0;34m)\u001b[0m\u001b[0;34m\u001b[0m\u001b[0;34m\u001b[0m\u001b[0m\n\u001b[0m\u001b[1;32m      2\u001b[0m \u001b[0moptimizer\u001b[0m \u001b[0;34m=\u001b[0m \u001b[0moptim\u001b[0m\u001b[0;34m.\u001b[0m\u001b[0mAdam\u001b[0m\u001b[0;34m(\u001b[0m\u001b[0mw_net\u001b[0m\u001b[0;34m.\u001b[0m\u001b[0mparameters\u001b[0m\u001b[0;34m(\u001b[0m\u001b[0;34m)\u001b[0m\u001b[0;34m,\u001b[0m \u001b[0mamsgrad\u001b[0m\u001b[0;34m=\u001b[0m\u001b[0;32mFalse\u001b[0m\u001b[0;34m,\u001b[0m \u001b[0mweight_decay\u001b[0m\u001b[0;34m=\u001b[0m\u001b[0;36m0.0\u001b[0m\u001b[0;34m)\u001b[0m\u001b[0;34m\u001b[0m\u001b[0;34m\u001b[0m\u001b[0m\n\u001b[1;32m      3\u001b[0m \u001b[0;34m\u001b[0m\u001b[0m\n\u001b[1;32m      4\u001b[0m \u001b[0mmetric_dict\u001b[0m \u001b[0;34m=\u001b[0m \u001b[0;34m{\u001b[0m\u001b[0;34m'losses'\u001b[0m\u001b[0;34m:\u001b[0m \u001b[0;34m[\u001b[0m\u001b[0;34m]\u001b[0m\u001b[0;34m}\u001b[0m\u001b[0;34m\u001b[0m\u001b[0;34m\u001b[0m\u001b[0m\n\u001b[1;32m      5\u001b[0m \u001b[0;34m\u001b[0m\u001b[0m\n",
      "\u001b[0;31mNameError\u001b[0m: name 'WordEmbeddingNetwork' is not defined"
     ]
    }
   ],
   "source": [
    "w_net = WordEmbeddingNetwork(word_shape=x_trn.shape,embedding_units=2)\n",
    "optimizer = optim.Adam(w_net.parameters(), amsgrad=False, weight_decay=0.0)\n",
    "\n",
    "metric_dict = {'losses': []} \n",
    "\n",
    "batch_size = 256\n",
    "samples = (int((x_trn.shape[0]/batch_size)))*batch_size\n",
    "x_trn_t = torch.from_numpy(x_trn).float()[0:samples]\n",
    "y_trn_t = torch.from_numpy(y_trn).float()[0:samples]\n",
    "\n",
    "print(x_trn_t[0*batch_size:(0+1)*batch_size].shape)\n",
    "\n",
    "for epoch in range(100):\n",
    "    loss_val=0\n",
    "    for row in tqdm.tqdm(range(int((x_trn_t.shape[0]/batch_size)))):\n",
    "        training_batch = x_trn_t[row*batch_size:(row+1)*batch_size]\n",
    "\n",
    "        label_batch = y_trn_t[row*batch_size:(row+1)*batch_size]\n",
    "        \n",
    "        out = w_net.forward(training_batch)\n",
    "        log_softmax = F.log_softmax(out, dim=0)\n",
    "        \n",
    "        loss_fn = nn.MSELoss()\n",
    "        RMSE_loss = torch.sqrt(loss_fn(out, label_batch))\n",
    "    \n",
    "        loss_val+=(RMSE_loss.item())\n",
    "        \n",
    "        optimizer.zero_grad()\n",
    "        w_net.zero_grad()\n",
    "        RMSE_loss.backward()\n",
    "        optimizer.step()\n",
    "    print(\"Epoch \"+str(epoch)+\" loss \"+str(loss_val))\n",
    "        \n",
    "    metric_dict['losses'].append(loss_val)"
   ]
  },
  {
   "cell_type": "code",
   "execution_count": 25,
   "metadata": {},
   "outputs": [
    {
     "name": "stdout",
     "output_type": "stream",
     "text": [
      "[0 1 2 3]\n",
      "weights_\n",
      "weights_\n",
      "\n",
      "\n",
      "hello\n",
      "[-0.5  0.   0.5  1.   1.5  2.   2.5  3.   3.5]\n"
     ]
    },
    {
     "data": {
      "text/plain": [
       "([<matplotlib.axis.XTick at 0x7fdf2bbeaf10>,\n",
       "  <matplotlib.axis.XTick at 0x7fdf2bbedb90>,\n",
       "  <matplotlib.axis.XTick at 0x7fdf2bbe2f50>,\n",
       "  <matplotlib.axis.XTick at 0x7fdf2bc810d0>],\n",
       " [Text(0, 0, 'weights_encode'),\n",
       "  Text(1, 0, 'weights_decode'),\n",
       "  Text(2, 0, 'bias1'),\n",
       "  Text(3, 0, 'bias2')])"
      ]
     },
     "execution_count": 25,
     "metadata": {},
     "output_type": "execute_result"
    },
    {
     "data": {
      "image/png": "[encoded data removed]",
      "text/plain": [
       "<Figure size 432x288 with 1 Axes>"
      ]
     },
     "metadata": {
      "needs_background": "light"
     },
     "output_type": "display_data"
    }
   ],
   "source": [
    "a=[]\n",
    "layers=[]\n",
    "ticks = np.arange(4)\n",
    "print(ticks)\n",
    "\n",
    "for layer, param in (w_net.named_parameters()):\n",
    "    print(layer[:-6])\n",
    "    a.append(param.grad.mean())\n",
    "    layers.append(layer)\n",
    "    \n",
    "print(\"hello.weight\"[:-7])    \n",
    "plt.plot(a)\n",
    "locs,labels=plt.xticks()\n",
    "print(locs)\n",
    "plt.xticks(ticks=ticks,labels=layers)"
   ]
  },
  {
   "cell_type": "code",
   "execution_count": 58,
   "metadata": {},
   "outputs": [
    {
     "name": "stdout",
     "output_type": "stream",
     "text": [
      "[[ 0.70710678 -0.70710678]\n",
      " [ 0.70710678  0.70710678]]\n",
      "(28, 2)\n",
      "(2, 2)\n"
     ]
    },
    {
     "data": {
      "image/png": "[encoded data removed]",
      "text/plain": [
       "<Figure size 432x288 with 1 Axes>"
      ]
     },
     "metadata": {
      "needs_background": "light"
     },
     "output_type": "display_data"
    }
   ],
   "source": [
    "embeddings = np.zeros(shape=(len(vocab),2))\n",
    "\n",
    "i=0\n",
    "for grapheme in vocab:\n",
    "    test = torch.from_numpy(graph2vec(grapheme)).float()\n",
    "    embedding = w_net.encode(test).detach().numpy()\n",
    "    embeddings[i,:]=embedding\n",
    "    i+=1\n",
    "\n",
    "embedding_means = embeddings.mean(axis=0)\n",
    "embedding_std = embeddings.std(axis=0)\n",
    "norm_embeddings = (embeddings-embedding_means)/embedding_std\n",
    "\n",
    "    \n",
    "covariance_matrix = np.cov(norm_embeddings.T)\n",
    "v,w = np.linalg.eig(covariance_matrix)\n",
    "\n",
    "idx = v.argsort()[::-1] # Sort descending and get sorted indices\n",
    "v = v[idx] # Use indices on eigv vector\n",
    "w = w[:,idx] # \n",
    "\n",
    "variance_explained = []\n",
    "for i in v:\n",
    "     variance_explained.append((i/sum(v))*100)\n",
    "        \n",
    "red_Vecs = w[0:2,:]\n",
    "print(red_Vecs)\n",
    "\n",
    "print(embeddings.shape)\n",
    "print(red_Vecs.shape)\n",
    "low_d_embed = (embeddings @ red_Vecs.T)\n",
    "\n",
    "#plt.scatter(x=low_d_embed[:,0],y=low_d_embed[:,1])\n",
    "\n",
    "x=embeddings[:,0]\n",
    "y=embeddings[:,1]\n",
    "\n",
    "fig, ax = plt.subplots()\n",
    "ax.scatter(x, y)\n",
    "\n",
    "for i, txt in enumerate(vocab):\n",
    "    ax.annotate(txt, (x[i], y[i]))"
   ]
  },
  {
   "cell_type": "markdown",
   "metadata": {},
   "source": [
    "## Phonemes"
   ]
  },
  {
   "cell_type": "code",
   "execution_count": 44,
   "metadata": {},
   "outputs": [
    {
     "name": "stdout",
     "output_type": "stream",
     "text": [
      "['ch', 'n', 'ae', 'ao', 'f', 'z', 'm', 'oy', 'hh', 'ow', 'ea', 'zh', 'ia', '$', 's', 'ay', 'uh', 'dh', 'ua', 'sh', 'jh', 'w', 'b', 'ng', 'eh', 'd', 'aw', 'oh', 'el', 'iy', 'em', 'er', 'ah', 'g', 't', 'y', 'ey', 'th', 'en', 'k', 'ih', 'r', 'uw', 'l', 'ax', '£', 'p', 'v', 'aa']\n"
     ]
    }
   ],
   "source": [
    "text = open(\"data/combilex_rpc.dct\")\n",
    "textSamples=[['$']+phonemes.split(' ')[1:]+['£'] for phonemes in (text.read().split('\\n'))]\n",
    "\n",
    "tokenSet = [tokens for tokens in textSamples if len(tokens)>4]\n",
    "\n",
    "vocab = list(set([token for tokens in tokenSet for token in tokens]))\n",
    "print(vocab)\n",
    "#processed_text = (re.sub(r'[^\\w\\s]','',text.read().lower()).replace('\\n',' '))\n",
    "#tokens = [list(\"$\"+token+\"£\") for token in processed_text.split(' ')]\n",
    "#vocab = list('abcdefghijklmnopqrstuvwxyz$£')\n",
    "#v = len(vocab)"
   ]
  },
  {
   "cell_type": "code",
   "execution_count": 36,
   "metadata": {},
   "outputs": [
    {
     "name": "stdout",
     "output_type": "stream",
     "text": [
      "(3291464, 49)\n",
      "(3291464, 49)\n"
     ]
    }
   ],
   "source": [
    "windowSize = 2\n",
    "\n",
    "c=0\n",
    "for word in tokenSet:\n",
    "   c+=len(word)-windowSize*2 \n",
    "\n",
    "c=c*(windowSize*2)\n",
    "\n",
    "x_trn = np.empty(shape=(c,len(vocab)))\n",
    "y_trn = np.empty(shape=(c,len(vocab)))\n",
    "\n",
    "i = 0\n",
    "\n",
    "for word in tokenSet:\n",
    "    wc = len(word)\n",
    "    for graph_i in range(2,wc-2):\n",
    "        x_trn[i:i+windowSize*2,:]=graph2vec(word[graph_i]) \n",
    "        y_trn[i,:] = graph2vec(word[graph_i-2])\n",
    "        y_trn[i+1,:] = graph2vec(word[graph_i-1])\n",
    "        y_trn[i+2,:] = graph2vec(word[graph_i+1])\n",
    "        y_trn[i+3,:] = graph2vec(word[graph_i+2])\n",
    "        i+=windowSize*2\n",
    "        \n",
    "print(x_trn.shape)\n",
    "print(y_trn.shape)"
   ]
  },
  {
   "cell_type": "code",
   "execution_count": 47,
   "metadata": {},
   "outputs": [
    {
     "name": "stderr",
     "output_type": "stream",
     "text": [
      "  1%|          | 24/3214 [00:00<00:13, 234.18it/s]"
     ]
    },
    {
     "name": "stdout",
     "output_type": "stream",
     "text": [
      "torch.Size([1024, 49])\n"
     ]
    },
    {
     "name": "stderr",
     "output_type": "stream",
     "text": [
      "100%|██████████| 3214/3214 [00:09<00:00, 330.55it/s]\n",
      "  2%|▏         | 75/3214 [00:00<00:09, 331.63it/s]"
     ]
    },
    {
     "name": "stdout",
     "output_type": "stream",
     "text": [
      "Epoch 0 loss 618.619069442153\n"
     ]
    },
    {
     "name": "stderr",
     "output_type": "stream",
     "text": [
      "100%|██████████| 3214/3214 [00:09<00:00, 328.64it/s]\n",
      "  1%|          | 40/3214 [00:00<00:08, 391.08it/s]"
     ]
    },
    {
     "name": "stdout",
     "output_type": "stream",
     "text": [
      "Epoch 1 loss 458.17316319048405\n"
     ]
    },
    {
     "name": "stderr",
     "output_type": "stream",
     "text": [
      "100%|██████████| 3214/3214 [00:09<00:00, 351.28it/s]\n",
      "  1%|          | 21/3214 [00:00<00:15, 206.19it/s]"
     ]
    },
    {
     "name": "stdout",
     "output_type": "stream",
     "text": [
      "Epoch 2 loss 457.8472149223089\n"
     ]
    },
    {
     "name": "stderr",
     "output_type": "stream",
     "text": [
      "100%|██████████| 3214/3214 [00:08<00:00, 380.92it/s]\n",
      "  3%|▎         | 81/3214 [00:00<00:08, 376.09it/s]"
     ]
    },
    {
     "name": "stdout",
     "output_type": "stream",
     "text": [
      "Epoch 3 loss 457.5790084898472\n"
     ]
    },
    {
     "name": "stderr",
     "output_type": "stream",
     "text": [
      "100%|██████████| 3214/3214 [00:07<00:00, 430.71it/s]\n",
      "  1%|          | 39/3214 [00:00<00:08, 382.59it/s]"
     ]
    },
    {
     "name": "stdout",
     "output_type": "stream",
     "text": [
      "Epoch 4 loss 456.9025910496712\n"
     ]
    },
    {
     "name": "stderr",
     "output_type": "stream",
     "text": [
      "100%|██████████| 3214/3214 [00:07<00:00, 433.00it/s]\n",
      "  1%|          | 40/3214 [00:00<00:07, 398.51it/s]"
     ]
    },
    {
     "name": "stdout",
     "output_type": "stream",
     "text": [
      "Epoch 5 loss 456.7094427347183\n"
     ]
    },
    {
     "name": "stderr",
     "output_type": "stream",
     "text": [
      "100%|██████████| 3214/3214 [00:07<00:00, 439.23it/s]\n",
      "  1%|          | 36/3214 [00:00<00:08, 356.29it/s]"
     ]
    },
    {
     "name": "stdout",
     "output_type": "stream",
     "text": [
      "Epoch 6 loss 456.524115011096\n"
     ]
    },
    {
     "name": "stderr",
     "output_type": "stream",
     "text": [
      "100%|██████████| 3214/3214 [00:07<00:00, 428.64it/s]\n",
      "  1%|▏         | 41/3214 [00:00<00:07, 402.50it/s]"
     ]
    },
    {
     "name": "stdout",
     "output_type": "stream",
     "text": [
      "Epoch 7 loss 456.38092790544033\n"
     ]
    },
    {
     "name": "stderr",
     "output_type": "stream",
     "text": [
      "100%|██████████| 3214/3214 [00:07<00:00, 449.34it/s]\n",
      "  1%|          | 38/3214 [00:00<00:08, 375.17it/s]"
     ]
    },
    {
     "name": "stdout",
     "output_type": "stream",
     "text": [
      "Epoch 8 loss 456.2722016721964\n"
     ]
    },
    {
     "name": "stderr",
     "output_type": "stream",
     "text": [
      "100%|██████████| 3214/3214 [00:07<00:00, 443.21it/s]\n",
      "  1%|▏         | 41/3214 [00:00<00:07, 402.62it/s]"
     ]
    },
    {
     "name": "stdout",
     "output_type": "stream",
     "text": [
      "Epoch 9 loss 456.26408718526363\n"
     ]
    },
    {
     "name": "stderr",
     "output_type": "stream",
     "text": [
      "100%|██████████| 3214/3214 [00:07<00:00, 444.62it/s]\n",
      "  1%|          | 28/3214 [00:00<00:11, 274.62it/s]"
     ]
    },
    {
     "name": "stdout",
     "output_type": "stream",
     "text": [
      "Epoch 10 loss 456.2605946213007\n"
     ]
    },
    {
     "name": "stderr",
     "output_type": "stream",
     "text": [
      "100%|██████████| 3214/3214 [00:09<00:00, 344.34it/s]\n",
      "  1%|          | 36/3214 [00:00<00:08, 354.14it/s]"
     ]
    },
    {
     "name": "stdout",
     "output_type": "stream",
     "text": [
      "Epoch 11 loss 456.2559669613838\n"
     ]
    },
    {
     "name": "stderr",
     "output_type": "stream",
     "text": [
      "100%|██████████| 3214/3214 [00:08<00:00, 366.37it/s]\n",
      "  1%|          | 35/3214 [00:00<00:09, 347.59it/s]"
     ]
    },
    {
     "name": "stdout",
     "output_type": "stream",
     "text": [
      "Epoch 12 loss 456.2540013343096\n"
     ]
    },
    {
     "name": "stderr",
     "output_type": "stream",
     "text": [
      "100%|██████████| 3214/3214 [00:07<00:00, 445.57it/s]\n",
      "  1%|          | 37/3214 [00:00<00:08, 362.98it/s]"
     ]
    },
    {
     "name": "stdout",
     "output_type": "stream",
     "text": [
      "Epoch 13 loss 456.25300849974155\n"
     ]
    },
    {
     "name": "stderr",
     "output_type": "stream",
     "text": [
      "100%|██████████| 3214/3214 [00:07<00:00, 451.71it/s]\n",
      "  1%|          | 37/3214 [00:00<00:08, 369.21it/s]"
     ]
    },
    {
     "name": "stdout",
     "output_type": "stream",
     "text": [
      "Epoch 14 loss 456.24846379458904\n"
     ]
    },
    {
     "name": "stderr",
     "output_type": "stream",
     "text": [
      "100%|██████████| 3214/3214 [00:08<00:00, 364.24it/s]\n",
      "  1%|          | 31/3214 [00:00<00:10, 309.23it/s]"
     ]
    },
    {
     "name": "stdout",
     "output_type": "stream",
     "text": [
      "Epoch 15 loss 456.24310636520386\n"
     ]
    },
    {
     "name": "stderr",
     "output_type": "stream",
     "text": [
      "100%|██████████| 3214/3214 [00:09<00:00, 339.72it/s]\n",
      "  1%|          | 32/3214 [00:00<00:10, 316.53it/s]"
     ]
    },
    {
     "name": "stdout",
     "output_type": "stream",
     "text": [
      "Epoch 16 loss 456.2393311262131\n"
     ]
    },
    {
     "name": "stderr",
     "output_type": "stream",
     "text": [
      "100%|██████████| 3214/3214 [00:09<00:00, 337.35it/s]\n",
      "  1%|          | 29/3214 [00:00<00:11, 287.26it/s]"
     ]
    },
    {
     "name": "stdout",
     "output_type": "stream",
     "text": [
      "Epoch 17 loss 456.23626959323883\n"
     ]
    },
    {
     "name": "stderr",
     "output_type": "stream",
     "text": [
      "100%|██████████| 3214/3214 [00:08<00:00, 371.91it/s]\n",
      "  1%|          | 35/3214 [00:00<00:09, 345.04it/s]"
     ]
    },
    {
     "name": "stdout",
     "output_type": "stream",
     "text": [
      "Epoch 18 loss 456.1281324326992\n"
     ]
    },
    {
     "name": "stderr",
     "output_type": "stream",
     "text": [
      "100%|██████████| 3214/3214 [00:08<00:00, 400.66it/s]\n",
      "  1%|          | 24/3214 [00:00<00:13, 235.14it/s]"
     ]
    },
    {
     "name": "stdout",
     "output_type": "stream",
     "text": [
      "Epoch 19 loss 456.028475433588\n"
     ]
    },
    {
     "name": "stderr",
     "output_type": "stream",
     "text": [
      "100%|██████████| 3214/3214 [00:08<00:00, 358.34it/s]\n",
      "  1%|          | 26/3214 [00:00<00:12, 257.74it/s]"
     ]
    },
    {
     "name": "stdout",
     "output_type": "stream",
     "text": [
      "Epoch 20 loss 456.00789868831635\n"
     ]
    },
    {
     "name": "stderr",
     "output_type": "stream",
     "text": [
      "100%|██████████| 3214/3214 [00:09<00:00, 329.99it/s]\n",
      "  1%|          | 30/3214 [00:00<00:10, 298.51it/s]"
     ]
    },
    {
     "name": "stdout",
     "output_type": "stream",
     "text": [
      "Epoch 21 loss 456.0060045719147\n"
     ]
    },
    {
     "name": "stderr",
     "output_type": "stream",
     "text": [
      "100%|██████████| 3214/3214 [00:07<00:00, 411.66it/s]\n",
      "  1%|          | 31/3214 [00:00<00:10, 309.95it/s]"
     ]
    },
    {
     "name": "stdout",
     "output_type": "stream",
     "text": [
      "Epoch 22 loss 456.0043425858021\n"
     ]
    },
    {
     "name": "stderr",
     "output_type": "stream",
     "text": [
      "100%|██████████| 3214/3214 [00:09<00:00, 334.92it/s]\n",
      "  1%|          | 33/3214 [00:00<00:09, 324.28it/s]"
     ]
    },
    {
     "name": "stdout",
     "output_type": "stream",
     "text": [
      "Epoch 23 loss 456.0026610791683\n"
     ]
    },
    {
     "name": "stderr",
     "output_type": "stream",
     "text": [
      "100%|██████████| 3214/3214 [00:09<00:00, 349.33it/s]\n",
      "  1%|          | 27/3214 [00:00<00:11, 269.91it/s]"
     ]
    },
    {
     "name": "stdout",
     "output_type": "stream",
     "text": [
      "Epoch 24 loss 455.9894015043974\n"
     ]
    },
    {
     "name": "stderr",
     "output_type": "stream",
     "text": [
      "100%|██████████| 3214/3214 [00:09<00:00, 337.06it/s]\n",
      "  1%|          | 34/3214 [00:00<00:09, 330.63it/s]"
     ]
    },
    {
     "name": "stdout",
     "output_type": "stream",
     "text": [
      "Epoch 25 loss 455.2375339716673\n"
     ]
    },
    {
     "name": "stderr",
     "output_type": "stream",
     "text": [
      "100%|██████████| 3214/3214 [00:09<00:00, 331.87it/s]\n",
      "  1%|          | 31/3214 [00:00<00:10, 301.57it/s]"
     ]
    },
    {
     "name": "stdout",
     "output_type": "stream",
     "text": [
      "Epoch 26 loss 454.304604947567\n"
     ]
    },
    {
     "name": "stderr",
     "output_type": "stream",
     "text": [
      "100%|██████████| 3214/3214 [00:09<00:00, 349.08it/s]\n",
      "  1%|▏         | 41/3214 [00:00<00:07, 402.44it/s]"
     ]
    },
    {
     "name": "stdout",
     "output_type": "stream",
     "text": [
      "Epoch 27 loss 454.00180508196354\n"
     ]
    },
    {
     "name": "stderr",
     "output_type": "stream",
     "text": [
      "100%|██████████| 3214/3214 [00:07<00:00, 406.31it/s]\n",
      "  1%|          | 40/3214 [00:00<00:08, 396.70it/s]"
     ]
    },
    {
     "name": "stdout",
     "output_type": "stream",
     "text": [
      "Epoch 28 loss 453.4266656935215\n"
     ]
    },
    {
     "name": "stderr",
     "output_type": "stream",
     "text": [
      "100%|██████████| 3214/3214 [00:09<00:00, 351.28it/s]\n",
      "  1%|▏         | 41/3214 [00:00<00:07, 401.52it/s]"
     ]
    },
    {
     "name": "stdout",
     "output_type": "stream",
     "text": [
      "Epoch 29 loss 453.3741148263216\n"
     ]
    },
    {
     "name": "stderr",
     "output_type": "stream",
     "text": [
      "100%|██████████| 3214/3214 [00:09<00:00, 329.73it/s]\n",
      "  2%|▏         | 80/3214 [00:00<00:07, 400.57it/s]"
     ]
    },
    {
     "name": "stdout",
     "output_type": "stream",
     "text": [
      "Epoch 30 loss 453.3232942521572\n"
     ]
    },
    {
     "name": "stderr",
     "output_type": "stream",
     "text": [
      "100%|██████████| 3214/3214 [00:10<00:00, 314.79it/s]\n",
      "  2%|▏         | 49/3214 [00:00<00:06, 477.70it/s]"
     ]
    },
    {
     "name": "stdout",
     "output_type": "stream",
     "text": [
      "Epoch 31 loss 453.3195192068815\n"
     ]
    },
    {
     "name": "stderr",
     "output_type": "stream",
     "text": [
      "100%|██████████| 3214/3214 [00:08<00:00, 363.28it/s]\n",
      "  1%|          | 33/3214 [00:00<00:09, 323.62it/s]"
     ]
    },
    {
     "name": "stdout",
     "output_type": "stream",
     "text": [
      "Epoch 32 loss 453.3189223110676\n"
     ]
    },
    {
     "name": "stderr",
     "output_type": "stream",
     "text": [
      "100%|██████████| 3214/3214 [00:08<00:00, 394.37it/s]\n",
      "  3%|▎         | 86/3214 [00:00<00:07, 420.23it/s]"
     ]
    },
    {
     "name": "stdout",
     "output_type": "stream",
     "text": [
      "Epoch 33 loss 452.21623036265373\n"
     ]
    },
    {
     "name": "stderr",
     "output_type": "stream",
     "text": [
      "100%|██████████| 3214/3214 [00:08<00:00, 357.66it/s]\n",
      "  1%|          | 32/3214 [00:00<00:09, 319.50it/s]"
     ]
    },
    {
     "name": "stdout",
     "output_type": "stream",
     "text": [
      "Epoch 34 loss 451.92251604795456\n"
     ]
    },
    {
     "name": "stderr",
     "output_type": "stream",
     "text": [
      "100%|██████████| 3214/3214 [00:08<00:00, 372.19it/s]\n",
      "  1%|          | 34/3214 [00:00<00:09, 325.79it/s]"
     ]
    },
    {
     "name": "stdout",
     "output_type": "stream",
     "text": [
      "Epoch 35 loss 451.8918738514185\n"
     ]
    },
    {
     "name": "stderr",
     "output_type": "stream",
     "text": [
      "100%|██████████| 3214/3214 [00:08<00:00, 371.96it/s]\n",
      "  3%|▎         | 86/3214 [00:00<00:07, 412.75it/s]"
     ]
    },
    {
     "name": "stdout",
     "output_type": "stream",
     "text": [
      "Epoch 36 loss 451.799396276474\n"
     ]
    },
    {
     "name": "stderr",
     "output_type": "stream",
     "text": [
      "100%|██████████| 3214/3214 [00:08<00:00, 392.00it/s]\n",
      "  2%|▏         | 78/3214 [00:00<00:08, 381.19it/s]"
     ]
    },
    {
     "name": "stdout",
     "output_type": "stream",
     "text": [
      "Epoch 37 loss 451.3702385574579\n"
     ]
    },
    {
     "name": "stderr",
     "output_type": "stream",
     "text": [
      "100%|██████████| 3214/3214 [00:08<00:00, 379.43it/s]\n",
      "  1%|          | 40/3214 [00:00<00:07, 398.37it/s]"
     ]
    },
    {
     "name": "stdout",
     "output_type": "stream",
     "text": [
      "Epoch 38 loss 451.2566209733486\n"
     ]
    },
    {
     "name": "stderr",
     "output_type": "stream",
     "text": [
      "100%|██████████| 3214/3214 [00:09<00:00, 352.94it/s]\n",
      "  1%|          | 38/3214 [00:00<00:08, 374.92it/s]"
     ]
    },
    {
     "name": "stdout",
     "output_type": "stream",
     "text": [
      "Epoch 39 loss 451.1120870709419\n"
     ]
    },
    {
     "name": "stderr",
     "output_type": "stream",
     "text": [
      "100%|██████████| 3214/3214 [00:08<00:00, 399.44it/s]\n",
      "  1%|          | 36/3214 [00:00<00:08, 354.17it/s]"
     ]
    },
    {
     "name": "stdout",
     "output_type": "stream",
     "text": [
      "Epoch 40 loss 451.11079989373684\n"
     ]
    },
    {
     "name": "stderr",
     "output_type": "stream",
     "text": [
      "100%|██████████| 3214/3214 [00:12<00:00, 262.52it/s]\n",
      "  1%|          | 36/3214 [00:00<00:08, 359.01it/s]"
     ]
    },
    {
     "name": "stdout",
     "output_type": "stream",
     "text": [
      "Epoch 41 loss 451.11006942391396\n"
     ]
    },
    {
     "name": "stderr",
     "output_type": "stream",
     "text": [
      "100%|██████████| 3214/3214 [00:09<00:00, 351.38it/s]\n",
      "  1%|▏         | 41/3214 [00:00<00:07, 399.40it/s]"
     ]
    },
    {
     "name": "stdout",
     "output_type": "stream",
     "text": [
      "Epoch 42 loss 451.10997216403484\n"
     ]
    },
    {
     "name": "stderr",
     "output_type": "stream",
     "text": [
      "100%|██████████| 3214/3214 [00:11<00:00, 276.10it/s]\n",
      "  1%|          | 22/3214 [00:00<00:14, 219.43it/s]"
     ]
    },
    {
     "name": "stdout",
     "output_type": "stream",
     "text": [
      "Epoch 43 loss 451.1094678044319\n"
     ]
    },
    {
     "name": "stderr",
     "output_type": "stream",
     "text": [
      "100%|██████████| 3214/3214 [00:09<00:00, 347.38it/s]\n",
      "  1%|          | 34/3214 [00:00<00:09, 336.04it/s]"
     ]
    },
    {
     "name": "stdout",
     "output_type": "stream",
     "text": [
      "Epoch 44 loss 451.11160315573215\n"
     ]
    },
    {
     "name": "stderr",
     "output_type": "stream",
     "text": [
      "100%|██████████| 3214/3214 [00:10<00:00, 309.75it/s]\n",
      "  1%|▏         | 41/3214 [00:00<00:07, 400.50it/s]"
     ]
    },
    {
     "name": "stdout",
     "output_type": "stream",
     "text": [
      "Epoch 45 loss 451.1088529378176\n"
     ]
    },
    {
     "name": "stderr",
     "output_type": "stream",
     "text": [
      "100%|██████████| 3214/3214 [00:08<00:00, 369.65it/s]\n",
      "  1%|▏         | 44/3214 [00:00<00:07, 432.43it/s]"
     ]
    },
    {
     "name": "stdout",
     "output_type": "stream",
     "text": [
      "Epoch 46 loss 451.10864098370075\n"
     ]
    },
    {
     "name": "stderr",
     "output_type": "stream",
     "text": [
      "100%|██████████| 3214/3214 [00:08<00:00, 383.97it/s]\n",
      "  1%|          | 37/3214 [00:00<00:08, 355.17it/s]"
     ]
    },
    {
     "name": "stdout",
     "output_type": "stream",
     "text": [
      "Epoch 47 loss 451.1081791073084\n"
     ]
    },
    {
     "name": "stderr",
     "output_type": "stream",
     "text": [
      "100%|██████████| 3214/3214 [00:09<00:00, 348.57it/s]\n",
      "  1%|          | 34/3214 [00:00<00:09, 331.03it/s]"
     ]
    },
    {
     "name": "stdout",
     "output_type": "stream",
     "text": [
      "Epoch 48 loss 451.10818226635456\n"
     ]
    },
    {
     "name": "stderr",
     "output_type": "stream",
     "text": [
      "100%|██████████| 3214/3214 [00:11<00:00, 282.96it/s]\n",
      "  1%|          | 37/3214 [00:00<00:08, 363.60it/s]"
     ]
    },
    {
     "name": "stdout",
     "output_type": "stream",
     "text": [
      "Epoch 49 loss 451.108442530036\n"
     ]
    },
    {
     "name": "stderr",
     "output_type": "stream",
     "text": [
      "100%|██████████| 3214/3214 [00:11<00:00, 281.89it/s]\n",
      "  1%|          | 35/3214 [00:00<00:09, 344.03it/s]"
     ]
    },
    {
     "name": "stdout",
     "output_type": "stream",
     "text": [
      "Epoch 50 loss 451.10799539089203\n"
     ]
    },
    {
     "name": "stderr",
     "output_type": "stream",
     "text": [
      "100%|██████████| 3214/3214 [00:08<00:00, 362.43it/s]\n",
      "  1%|          | 26/3214 [00:00<00:12, 257.51it/s]"
     ]
    },
    {
     "name": "stdout",
     "output_type": "stream",
     "text": [
      "Epoch 51 loss 451.0093333274126\n"
     ]
    },
    {
     "name": "stderr",
     "output_type": "stream",
     "text": [
      "100%|██████████| 3214/3214 [00:12<00:00, 263.08it/s]\n",
      "  0%|          | 13/3214 [00:00<00:25, 126.76it/s]"
     ]
    },
    {
     "name": "stdout",
     "output_type": "stream",
     "text": [
      "Epoch 52 loss 450.4946984052658\n"
     ]
    },
    {
     "name": "stderr",
     "output_type": "stream",
     "text": [
      "100%|██████████| 3214/3214 [00:10<00:00, 311.82it/s]\n",
      "  1%|          | 21/3214 [00:00<00:15, 209.54it/s]"
     ]
    },
    {
     "name": "stdout",
     "output_type": "stream",
     "text": [
      "Epoch 53 loss 450.4940186589956\n"
     ]
    },
    {
     "name": "stderr",
     "output_type": "stream",
     "text": [
      "100%|██████████| 3214/3214 [00:12<00:00, 258.51it/s]\n",
      "  1%|▏         | 47/3214 [00:00<00:06, 469.36it/s]"
     ]
    },
    {
     "name": "stdout",
     "output_type": "stream",
     "text": [
      "Epoch 54 loss 450.49395774304867\n"
     ]
    },
    {
     "name": "stderr",
     "output_type": "stream",
     "text": [
      "100%|██████████| 3214/3214 [00:07<00:00, 455.07it/s]\n",
      "  1%|          | 39/3214 [00:00<00:08, 384.18it/s]"
     ]
    },
    {
     "name": "stdout",
     "output_type": "stream",
     "text": [
      "Epoch 55 loss 450.4939398318529\n"
     ]
    },
    {
     "name": "stderr",
     "output_type": "stream",
     "text": [
      "100%|██████████| 3214/3214 [00:09<00:00, 342.31it/s]\n",
      "  0%|          | 14/3214 [00:00<00:26, 121.96it/s]"
     ]
    },
    {
     "name": "stdout",
     "output_type": "stream",
     "text": [
      "Epoch 56 loss 450.49260994791985\n"
     ]
    },
    {
     "name": "stderr",
     "output_type": "stream",
     "text": [
      "100%|██████████| 3214/3214 [00:10<00:00, 302.29it/s]\n",
      "  1%|          | 30/3214 [00:00<00:10, 298.51it/s]"
     ]
    },
    {
     "name": "stdout",
     "output_type": "stream",
     "text": [
      "Epoch 57 loss 450.490523904562\n"
     ]
    },
    {
     "name": "stderr",
     "output_type": "stream",
     "text": [
      "100%|██████████| 3214/3214 [00:08<00:00, 392.07it/s]\n",
      "  1%|▏         | 42/3214 [00:00<00:07, 412.21it/s]"
     ]
    },
    {
     "name": "stdout",
     "output_type": "stream",
     "text": [
      "Epoch 58 loss 450.4904795587063\n"
     ]
    },
    {
     "name": "stderr",
     "output_type": "stream",
     "text": [
      "100%|██████████| 3214/3214 [00:07<00:00, 423.75it/s]\n",
      "  3%|▎         | 81/3214 [00:00<00:07, 393.07it/s]"
     ]
    },
    {
     "name": "stdout",
     "output_type": "stream",
     "text": [
      "Epoch 59 loss 450.4904522448778\n"
     ]
    },
    {
     "name": "stderr",
     "output_type": "stream",
     "text": [
      "100%|██████████| 3214/3214 [00:07<00:00, 416.32it/s]\n",
      "  1%|▏         | 42/3214 [00:00<00:07, 412.16it/s]"
     ]
    },
    {
     "name": "stdout",
     "output_type": "stream",
     "text": [
      "Epoch 60 loss 450.49044485390186\n"
     ]
    },
    {
     "name": "stderr",
     "output_type": "stream",
     "text": [
      "100%|██████████| 3214/3214 [00:07<00:00, 424.02it/s]\n",
      "  1%|▏         | 42/3214 [00:00<00:07, 415.21it/s]"
     ]
    },
    {
     "name": "stdout",
     "output_type": "stream",
     "text": [
      "Epoch 61 loss 450.4904229193926\n"
     ]
    },
    {
     "name": "stderr",
     "output_type": "stream",
     "text": [
      "100%|██████████| 3214/3214 [00:07<00:00, 435.46it/s]\n",
      "  1%|▏         | 42/3214 [00:00<00:07, 412.97it/s]"
     ]
    },
    {
     "name": "stdout",
     "output_type": "stream",
     "text": [
      "Epoch 62 loss 450.490408167243\n"
     ]
    },
    {
     "name": "stderr",
     "output_type": "stream",
     "text": [
      "100%|██████████| 3214/3214 [00:08<00:00, 369.50it/s]\n",
      "  3%|▎         | 87/3214 [00:00<00:07, 420.35it/s]"
     ]
    },
    {
     "name": "stdout",
     "output_type": "stream",
     "text": [
      "Epoch 63 loss 450.49038641154766\n"
     ]
    },
    {
     "name": "stderr",
     "output_type": "stream",
     "text": [
      "100%|██████████| 3214/3214 [00:07<00:00, 435.23it/s]\n",
      "  1%|▏         | 42/3214 [00:00<00:07, 413.04it/s]"
     ]
    },
    {
     "name": "stdout",
     "output_type": "stream",
     "text": [
      "Epoch 64 loss 450.49036982655525\n"
     ]
    },
    {
     "name": "stderr",
     "output_type": "stream",
     "text": [
      "100%|██████████| 3214/3214 [00:07<00:00, 432.04it/s]\n",
      "  1%|▏         | 42/3214 [00:00<00:07, 415.36it/s]"
     ]
    },
    {
     "name": "stdout",
     "output_type": "stream",
     "text": [
      "Epoch 65 loss 450.49034617841244\n"
     ]
    },
    {
     "name": "stderr",
     "output_type": "stream",
     "text": [
      "100%|██████████| 3214/3214 [00:07<00:00, 438.68it/s]\n",
      "  1%|          | 31/3214 [00:00<00:10, 308.26it/s]"
     ]
    },
    {
     "name": "stdout",
     "output_type": "stream",
     "text": [
      "Epoch 66 loss 450.4903614670038\n"
     ]
    },
    {
     "name": "stderr",
     "output_type": "stream",
     "text": [
      "100%|██████████| 3214/3214 [00:07<00:00, 439.70it/s]\n",
      "  1%|▏         | 42/3214 [00:00<00:07, 407.31it/s]"
     ]
    },
    {
     "name": "stdout",
     "output_type": "stream",
     "text": [
      "Epoch 67 loss 450.4906283169985\n"
     ]
    },
    {
     "name": "stderr",
     "output_type": "stream",
     "text": [
      "100%|██████████| 3214/3214 [00:07<00:00, 415.69it/s]\n",
      "  1%|          | 40/3214 [00:00<00:08, 392.33it/s]"
     ]
    },
    {
     "name": "stdout",
     "output_type": "stream",
     "text": [
      "Epoch 68 loss 450.4906251132488\n"
     ]
    },
    {
     "name": "stderr",
     "output_type": "stream",
     "text": [
      "100%|██████████| 3214/3214 [00:07<00:00, 439.86it/s]\n",
      "  1%|▏         | 42/3214 [00:00<00:07, 413.09it/s]"
     ]
    },
    {
     "name": "stdout",
     "output_type": "stream",
     "text": [
      "Epoch 69 loss 450.4906461685896\n"
     ]
    },
    {
     "name": "stderr",
     "output_type": "stream",
     "text": [
      "100%|██████████| 3214/3214 [00:07<00:00, 445.04it/s]\n",
      "  3%|▎         | 88/3214 [00:00<00:07, 430.16it/s]"
     ]
    },
    {
     "name": "stdout",
     "output_type": "stream",
     "text": [
      "Epoch 70 loss 450.4906410127878\n"
     ]
    },
    {
     "name": "stderr",
     "output_type": "stream",
     "text": [
      "100%|██████████| 3214/3214 [00:07<00:00, 445.75it/s]\n",
      "  3%|▎         | 89/3214 [00:00<00:07, 442.96it/s]"
     ]
    },
    {
     "name": "stdout",
     "output_type": "stream",
     "text": [
      "Epoch 71 loss 450.4906611889601\n"
     ]
    },
    {
     "name": "stderr",
     "output_type": "stream",
     "text": [
      "100%|██████████| 3214/3214 [00:07<00:00, 450.25it/s]\n",
      "  1%|▏         | 44/3214 [00:00<00:07, 432.22it/s]"
     ]
    },
    {
     "name": "stdout",
     "output_type": "stream",
     "text": [
      "Epoch 72 loss 450.4906544983387\n"
     ]
    },
    {
     "name": "stderr",
     "output_type": "stream",
     "text": [
      "100%|██████████| 3214/3214 [00:07<00:00, 412.30it/s]\n",
      "  1%|          | 39/3214 [00:00<00:08, 387.86it/s]"
     ]
    },
    {
     "name": "stdout",
     "output_type": "stream",
     "text": [
      "Epoch 73 loss 450.4906469285488\n"
     ]
    },
    {
     "name": "stderr",
     "output_type": "stream",
     "text": [
      "100%|██████████| 3214/3214 [00:08<00:00, 372.04it/s]\n",
      "  1%|▏         | 42/3214 [00:00<00:07, 415.81it/s]"
     ]
    },
    {
     "name": "stdout",
     "output_type": "stream",
     "text": [
      "Epoch 74 loss 450.4906437397003\n"
     ]
    },
    {
     "name": "stderr",
     "output_type": "stream",
     "text": [
      "100%|██████████| 3214/3214 [00:07<00:00, 411.05it/s]\n",
      "  1%|▏         | 41/3214 [00:00<00:07, 409.92it/s]"
     ]
    },
    {
     "name": "stdout",
     "output_type": "stream",
     "text": [
      "Epoch 75 loss 450.4906360656023\n"
     ]
    },
    {
     "name": "stderr",
     "output_type": "stream",
     "text": [
      "100%|██████████| 3214/3214 [00:07<00:00, 431.97it/s]\n",
      "  1%|▏         | 42/3214 [00:00<00:07, 413.82it/s]"
     ]
    },
    {
     "name": "stdout",
     "output_type": "stream",
     "text": [
      "Epoch 76 loss 450.49063043296337\n"
     ]
    },
    {
     "name": "stderr",
     "output_type": "stream",
     "text": [
      "100%|██████████| 3214/3214 [00:07<00:00, 433.08it/s]\n",
      "  1%|          | 40/3214 [00:00<00:08, 393.83it/s]"
     ]
    },
    {
     "name": "stdout",
     "output_type": "stream",
     "text": [
      "Epoch 77 loss 450.4906267076731\n"
     ]
    },
    {
     "name": "stderr",
     "output_type": "stream",
     "text": [
      "100%|██████████| 3214/3214 [00:07<00:00, 446.49it/s]\n",
      "  1%|▏         | 41/3214 [00:00<00:07, 408.72it/s]"
     ]
    },
    {
     "name": "stdout",
     "output_type": "stream",
     "text": [
      "Epoch 78 loss 450.4906243085861\n"
     ]
    },
    {
     "name": "stderr",
     "output_type": "stream",
     "text": [
      "100%|██████████| 3214/3214 [00:07<00:00, 426.37it/s]\n",
      "  1%|▏         | 41/3214 [00:00<00:07, 403.87it/s]"
     ]
    },
    {
     "name": "stdout",
     "output_type": "stream",
     "text": [
      "Epoch 79 loss 450.49062190949917\n"
     ]
    },
    {
     "name": "stderr",
     "output_type": "stream",
     "text": [
      "100%|██████████| 3214/3214 [00:08<00:00, 391.03it/s]\n",
      "  1%|          | 39/3214 [00:00<00:08, 388.16it/s]"
     ]
    },
    {
     "name": "stdout",
     "output_type": "stream",
     "text": [
      "Epoch 80 loss 450.4906201213598\n"
     ]
    },
    {
     "name": "stderr",
     "output_type": "stream",
     "text": [
      "100%|██████████| 3214/3214 [00:15<00:00, 202.84it/s]\n",
      "  0%|          | 3/3214 [00:00<01:53, 28.30it/s]"
     ]
    },
    {
     "name": "stdout",
     "output_type": "stream",
     "text": [
      "Epoch 81 loss 450.49102924764156\n"
     ]
    },
    {
     "name": "stderr",
     "output_type": "stream",
     "text": [
      "100%|██████████| 3214/3214 [00:10<00:00, 306.60it/s]\n",
      "  1%|▏         | 45/3214 [00:00<00:07, 444.09it/s]"
     ]
    },
    {
     "name": "stdout",
     "output_type": "stream",
     "text": [
      "Epoch 82 loss 450.4911292642355\n"
     ]
    },
    {
     "name": "stderr",
     "output_type": "stream",
     "text": [
      "100%|██████████| 3214/3214 [00:07<00:00, 434.78it/s]\n",
      "  1%|          | 35/3214 [00:00<00:09, 344.22it/s]"
     ]
    },
    {
     "name": "stdout",
     "output_type": "stream",
     "text": [
      "Epoch 83 loss 450.4911306351423\n"
     ]
    },
    {
     "name": "stderr",
     "output_type": "stream",
     "text": [
      "100%|██████████| 3214/3214 [00:07<00:00, 435.28it/s]\n",
      "  1%|▏         | 42/3214 [00:00<00:07, 415.16it/s]"
     ]
    },
    {
     "name": "stdout",
     "output_type": "stream",
     "text": [
      "Epoch 84 loss 450.4911314100027\n"
     ]
    },
    {
     "name": "stderr",
     "output_type": "stream",
     "text": [
      "100%|██████████| 3214/3214 [00:07<00:00, 445.24it/s]\n",
      "  3%|▎         | 88/3214 [00:00<00:07, 423.39it/s]"
     ]
    },
    {
     "name": "stdout",
     "output_type": "stream",
     "text": [
      "Epoch 85 loss 450.4911256432533\n"
     ]
    },
    {
     "name": "stderr",
     "output_type": "stream",
     "text": [
      "100%|██████████| 3214/3214 [00:07<00:00, 446.91it/s]\n",
      "  1%|▏         | 41/3214 [00:00<00:07, 407.85it/s]"
     ]
    },
    {
     "name": "stdout",
     "output_type": "stream",
     "text": [
      "Epoch 86 loss 450.4911238104105\n"
     ]
    },
    {
     "name": "stderr",
     "output_type": "stream",
     "text": [
      "100%|██████████| 3214/3214 [00:07<00:00, 432.26it/s]\n",
      "  1%|          | 37/3214 [00:00<00:08, 365.15it/s]"
     ]
    },
    {
     "name": "stdout",
     "output_type": "stream",
     "text": [
      "Epoch 87 loss 450.49112179875374\n"
     ]
    },
    {
     "name": "stderr",
     "output_type": "stream",
     "text": [
      "100%|██████████| 3214/3214 [00:07<00:00, 422.05it/s]\n",
      "  1%|▏         | 43/3214 [00:00<00:07, 424.35it/s]"
     ]
    },
    {
     "name": "stdout",
     "output_type": "stream",
     "text": [
      "Epoch 88 loss 450.4911196231842\n"
     ]
    },
    {
     "name": "stderr",
     "output_type": "stream",
     "text": [
      "100%|██████████| 3214/3214 [00:07<00:00, 439.78it/s]\n",
      "  3%|▎         | 84/3214 [00:00<00:07, 401.50it/s]"
     ]
    },
    {
     "name": "stdout",
     "output_type": "stream",
     "text": [
      "Epoch 89 loss 450.49111707508564\n"
     ]
    },
    {
     "name": "stderr",
     "output_type": "stream",
     "text": [
      "100%|██████████| 3214/3214 [00:07<00:00, 433.82it/s]\n",
      "  1%|▏         | 41/3214 [00:00<00:07, 405.67it/s]"
     ]
    },
    {
     "name": "stdout",
     "output_type": "stream",
     "text": [
      "Epoch 90 loss 450.4911147505045\n"
     ]
    },
    {
     "name": "stderr",
     "output_type": "stream",
     "text": [
      "100%|██████████| 3214/3214 [00:07<00:00, 445.75it/s]\n",
      "  1%|▏         | 42/3214 [00:00<00:07, 418.11it/s]"
     ]
    },
    {
     "name": "stdout",
     "output_type": "stream",
     "text": [
      "Epoch 91 loss 450.4911167919636\n"
     ]
    },
    {
     "name": "stderr",
     "output_type": "stream",
     "text": [
      "100%|██████████| 3214/3214 [00:07<00:00, 449.38it/s]\n",
      "  1%|▏         | 43/3214 [00:00<00:07, 424.57it/s]"
     ]
    },
    {
     "name": "stdout",
     "output_type": "stream",
     "text": [
      "Epoch 92 loss 450.49111871421337\n"
     ]
    },
    {
     "name": "stderr",
     "output_type": "stream",
     "text": [
      "100%|██████████| 3214/3214 [00:07<00:00, 450.57it/s]\n",
      "  1%|▏         | 43/3214 [00:00<00:07, 424.21it/s]"
     ]
    },
    {
     "name": "stdout",
     "output_type": "stream",
     "text": [
      "Epoch 93 loss 450.49111419916153\n"
     ]
    },
    {
     "name": "stderr",
     "output_type": "stream",
     "text": [
      "100%|██████████| 3214/3214 [00:07<00:00, 436.00it/s]\n",
      "  1%|          | 40/3214 [00:00<00:07, 397.19it/s]"
     ]
    },
    {
     "name": "stdout",
     "output_type": "stream",
     "text": [
      "Epoch 94 loss 450.49111396074295\n"
     ]
    },
    {
     "name": "stderr",
     "output_type": "stream",
     "text": [
      "100%|██████████| 3214/3214 [00:09<00:00, 337.39it/s]\n",
      "  3%|▎         | 87/3214 [00:00<00:07, 424.73it/s]"
     ]
    },
    {
     "name": "stdout",
     "output_type": "stream",
     "text": [
      "Epoch 95 loss 450.4911126792431\n"
     ]
    },
    {
     "name": "stderr",
     "output_type": "stream",
     "text": [
      "100%|██████████| 3214/3214 [00:08<00:00, 376.42it/s]\n",
      "  1%|          | 35/3214 [00:00<00:09, 346.31it/s]"
     ]
    },
    {
     "name": "stdout",
     "output_type": "stream",
     "text": [
      "Epoch 96 loss 450.491109341383\n"
     ]
    },
    {
     "name": "stderr",
     "output_type": "stream",
     "text": [
      "100%|██████████| 3214/3214 [00:08<00:00, 391.20it/s]\n",
      "  1%|          | 32/3214 [00:00<00:12, 263.17it/s]"
     ]
    },
    {
     "name": "stdout",
     "output_type": "stream",
     "text": [
      "Epoch 97 loss 450.4911108613014\n"
     ]
    },
    {
     "name": "stderr",
     "output_type": "stream",
     "text": [
      "100%|██████████| 3214/3214 [00:08<00:00, 398.26it/s]\n",
      "  1%|▏         | 41/3214 [00:00<00:07, 404.30it/s]"
     ]
    },
    {
     "name": "stdout",
     "output_type": "stream",
     "text": [
      "Epoch 98 loss 450.49111184477806\n"
     ]
    },
    {
     "name": "stderr",
     "output_type": "stream",
     "text": [
      "100%|██████████| 3214/3214 [00:07<00:00, 430.57it/s]"
     ]
    },
    {
     "name": "stdout",
     "output_type": "stream",
     "text": [
      "Epoch 99 loss 450.49111157655716\n"
     ]
    },
    {
     "name": "stderr",
     "output_type": "stream",
     "text": [
      "\n"
     ]
    }
   ],
   "source": [
    "w_net = WordEmbeddingNetwork(word_shape=x_trn.shape,embedding_units=5)\n",
    "optimizer = optim.Adam(w_net.parameters(), amsgrad=False, weight_decay=0.0)\n",
    "\n",
    "metric_dict = {'losses': []} \n",
    "\n",
    "batch_size = 1024\n",
    "samples = (int((x_trn.shape[0]/batch_size)))*batch_size\n",
    "x_trn_t = torch.from_numpy(x_trn).float()[0:samples]\n",
    "y_trn_t = torch.from_numpy(y_trn).float()[0:samples]\n",
    "\n",
    "print(x_trn_t[0*batch_size:(0+1)*batch_size].shape)\n",
    "\n",
    "for epoch in range(100):\n",
    "    loss_val=0\n",
    "    for row in tqdm.tqdm(range(int((x_trn_t.shape[0]/batch_size)))):\n",
    "        training_batch = x_trn_t[row*batch_size:(row+1)*batch_size]\n",
    "\n",
    "        label_batch = y_trn_t[row*batch_size:(row+1)*batch_size]\n",
    "        \n",
    "        out = w_net.forward(training_batch)\n",
    "        log_softmax = F.log_softmax(out, dim=0)\n",
    "        \n",
    "        loss_fn = nn.MSELoss()\n",
    "        RMSE_loss = torch.sqrt(loss_fn(out, label_batch))\n",
    "    \n",
    "        loss_val+=(RMSE_loss.item())\n",
    "        \n",
    "        optimizer.zero_grad()\n",
    "        w_net.zero_grad()\n",
    "        RMSE_loss.backward()\n",
    "        optimizer.step()\n",
    "    print(\"Epoch \"+str(epoch)+\" loss \"+str(loss_val))\n",
    "        \n",
    "    metric_dict['losses'].append(loss_val)"
   ]
  },
  {
   "cell_type": "code",
   "execution_count": 48,
   "metadata": {},
   "outputs": [
    {
     "data": {
      "image/png": "[encoded data removed]",
      "text/plain": [
       "<Figure size 432x288 with 1 Axes>"
      ]
     },
     "metadata": {
      "needs_background": "light"
     },
     "output_type": "display_data"
    }
   ],
   "source": [
    "embeddings = np.zeros(shape=(len(vocab),5))\n",
    "\n",
    "i=0\n",
    "for grapheme in vocab:\n",
    "    test = torch.from_numpy(graph2vec(grapheme)).float()\n",
    "    embedding = w_net.encode(test).detach().numpy()\n",
    "    embeddings[i,:]=embedding\n",
    "    i+=1\n",
    "\n",
    "embedding_means = embeddings.mean(axis=0)\n",
    "embedding_std = embeddings.std(axis=0)\n",
    "norm_embeddings = (embeddings-embedding_means)/embedding_std\n",
    "\n",
    "    \n",
    "covariance_matrix = np.cov(norm_embeddings.T)\n",
    "v,w = np.linalg.eig(covariance_matrix)\n",
    "\n",
    "idx = v.argsort()[::-1] # Sort descending and get sorted indices\n",
    "v = v[idx] # Use indices on eigv vector\n",
    "w = w[:,idx] # \n",
    "\n",
    "variance_explained = []\n",
    "for i in v:\n",
    "     variance_explained.append((i/sum(v))*100)\n",
    "        \n",
    "red_Vecs = w[0:2,:]\n",
    "\n",
    "low_d_embed = (embeddings @ red_Vecs.T)\n",
    "\n",
    "#plt.scatter(x=low_d_embed[:,0],y=low_d_embed[:,1])\n",
    "\n",
    "x=low_d_embed[:,0]\n",
    "y=low_d_embed[:,1]\n",
    "\n",
    "fig, ax = plt.subplots()\n",
    "ax.scatter(x, y)\n",
    "\n",
    "for i, txt in enumerate(vocab):\n",
    "    ax.annotate(txt, (x[i], y[i]))"
   ]
  },
  {
   "cell_type": "code",
   "execution_count": 5,
   "metadata": {},
   "outputs": [
    {
     "data": {
      "image/png": "[encoded data removed]",
      "text/plain": [
       "<Figure size 432x288 with 2 Axes>"
      ]
     },
     "metadata": {
      "needs_background": "light"
     },
     "output_type": "display_data"
    }
   ],
   "source": [
    "plt.subplot(211)\n",
    "plt.plot([1, 2, 3], label=\"test1\")\n",
    "plt.plot([3, 2, 1], label=\"test2\")\n",
    "\n",
    "# Place a legend above this subplot, expanding itself to\n",
    "# fully use the given bounding box.\n",
    "plt.legend(bbox_to_anchor=(0., 1.02, 1., .102), loc='lower left',\n",
    "           ncol=2, mode=\"expand\", borderaxespad=0.)\n",
    "\n",
    "plt.subplot(223)\n",
    "plt.plot([1, 2, 3], label=\"test1\")\n",
    "plt.plot([3, 2, 1], label=\"test2\")\n",
    "# Place a legend to the right of this smaller subplot.\n",
    "plt.legend(bbox_to_anchor=(1.05, 1), loc='upper left', borderaxespad=0.)\n",
    "\n",
    "plt.show()"
   ]
  },
  {
   "cell_type": "code",
   "execution_count": null,
   "metadata": {},
   "outputs": [],
   "source": []
  }
 ],
 "metadata": {
  "kernelspec": {
   "display_name": "Python 3",
   "language": "python",
   "name": "python3"
  },
  "language_info": {
   "codemirror_mode": {
    "name": "ipython",
    "version": 3
   },
   "file_extension": ".py",
   "mimetype": "text/x-python",
   "name": "python",
   "nbconvert_exporter": "python",
   "pygments_lexer": "ipython3",
   "version": "3.7.9"
  }
 },
 "nbformat": 4,
 "nbformat_minor": 4
}
